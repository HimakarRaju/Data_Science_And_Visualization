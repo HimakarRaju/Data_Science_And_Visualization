{
 "cells": [
  {
   "cell_type": "code",
   "execution_count": 23,
   "id": "5067b991-652e-4665-bd7e-65d42e44856f",
   "metadata": {
    "execution": {
     "iopub.execute_input": "2024-10-07T04:50:27.372462Z",
     "iopub.status.busy": "2024-10-07T04:50:27.371454Z",
     "iopub.status.idle": "2024-10-07T04:50:27.381135Z",
     "shell.execute_reply": "2024-10-07T04:50:27.379092Z",
     "shell.execute_reply.started": "2024-10-07T04:50:27.372462Z"
    }
   },
   "outputs": [],
   "source": [
    "import pytesseract\n",
    "import sympy\n",
    "import cv2\n",
    "from PIL import Image"
   ]
  },
  {
   "cell_type": "code",
   "execution_count": 24,
   "id": "c2cb58aa-3256-4982-a18a-83ae0b46135c",
   "metadata": {
    "execution": {
     "iopub.execute_input": "2024-10-07T04:50:27.386113Z",
     "iopub.status.busy": "2024-10-07T04:50:27.384107Z",
     "iopub.status.idle": "2024-10-07T04:50:27.392147Z",
     "shell.execute_reply": "2024-10-07T04:50:27.391135Z",
     "shell.execute_reply.started": "2024-10-07T04:50:27.386113Z"
    }
   },
   "outputs": [],
   "source": [
    "imgpath = \"C:\\\\Users\\\\HimakarRaju\\\\Desktop\\\\PreSkilling\\\\Python\\\\Data_Science_And_Visualization\\\\A_A_Resources\\\\testimages\\\\img1.png\"\n",
    "\n",
    "path_to_tesseract = r'D:\\System_Installs\\Development\\Tesseract\\tesseract.exe'\n",
    "pytesseract.pytesseract.tesseract_cmd = path_to_tesseract = path_to_tesseract"
   ]
  },
  {
   "cell_type": "code",
   "execution_count": 25,
   "id": "f1c539ea-9964-4d4a-9205-79fba5a9853c",
   "metadata": {
    "editable": true,
    "execution": {
     "iopub.execute_input": "2024-10-07T04:50:27.394150Z",
     "iopub.status.busy": "2024-10-07T04:50:27.393159Z",
     "iopub.status.idle": "2024-10-07T04:50:27.771975Z",
     "shell.execute_reply": "2024-10-07T04:50:27.771975Z",
     "shell.execute_reply.started": "2024-10-07T04:50:27.394150Z"
    },
    "slideshow": {
     "slide_type": ""
    },
    "tags": []
   },
   "outputs": [],
   "source": [
    "text = pytesseract.image_to_string(imgpath)"
   ]
  },
  {
   "cell_type": "code",
   "execution_count": 26,
   "id": "ec73e460-7b37-4d39-bda4-e3c910907349",
   "metadata": {
    "execution": {
     "iopub.execute_input": "2024-10-07T04:50:27.773991Z",
     "iopub.status.busy": "2024-10-07T04:50:27.773049Z",
     "iopub.status.idle": "2024-10-07T04:50:27.795820Z",
     "shell.execute_reply": "2024-10-07T04:50:27.794874Z",
     "shell.execute_reply.started": "2024-10-07T04:50:27.773991Z"
    }
   },
   "outputs": [
    {
     "ename": "NameError",
     "evalue": "name 'image_path' is not defined",
     "output_type": "error",
     "traceback": [
      "\u001b[1;31m---------------------------------------------------------------------------\u001b[0m",
      "\u001b[1;31mNameError\u001b[0m                                 Traceback (most recent call last)",
      "Cell \u001b[1;32mIn[26], line 10\u001b[0m\n\u001b[0;32m      6\u001b[0m     \u001b[38;5;28;01mexcept\u001b[39;00m \u001b[38;5;167;01mException\u001b[39;00m \u001b[38;5;28;01mas\u001b[39;00m e:\n\u001b[0;32m      7\u001b[0m         \u001b[38;5;28;01mreturn\u001b[39;00m \u001b[38;5;124mf\u001b[39m\u001b[38;5;124m\"\u001b[39m\u001b[38;5;124mError extracting text: \u001b[39m\u001b[38;5;132;01m{\u001b[39;00me\u001b[38;5;132;01m}\u001b[39;00m\u001b[38;5;124m\"\u001b[39m\n\u001b[1;32m---> 10\u001b[0m text2 \u001b[38;5;241m=\u001b[39m extract_text_from_image(\u001b[43mimage_path\u001b[49m)\n",
      "\u001b[1;31mNameError\u001b[0m: name 'image_path' is not defined"
     ]
    }
   ],
   "source": [
    "def extract_text_from_image(image_path):\n",
    "    try:\n",
    "        img = Image.open(image_path)\n",
    "        text = pytesseract.image_to_string(image_path)\n",
    "        return text.strip()\n",
    "    except Exception as e:\n",
    "        return f\"Error extracting text: {e}\"\n",
    "\n",
    "\n",
    "text2 = extract_text_from_image(imgpath)"
   ]
  },
  {
   "cell_type": "code",
   "execution_count": null,
   "id": "6a8cd881-0803-49c7-929c-d5f5dce9de2f",
   "metadata": {},
   "outputs": [],
   "source": []
  },
  {
   "cell_type": "code",
   "execution_count": null,
   "id": "c1b6f137-2f04-442f-9094-c8d8b4193a1b",
   "metadata": {},
   "outputs": [],
   "source": []
  }
 ],
 "metadata": {
  "kernelspec": {
   "display_name": "Python 3 (ipykernel)",
   "language": "python",
   "name": "python3"
  },
  "language_info": {
   "codemirror_mode": {
    "name": "ipython",
    "version": 3
   },
   "file_extension": ".py",
   "mimetype": "text/x-python",
   "name": "python",
   "nbconvert_exporter": "python",
   "pygments_lexer": "ipython3",
   "version": "3.12.6"
  }
 },
 "nbformat": 4,
 "nbformat_minor": 5
}
