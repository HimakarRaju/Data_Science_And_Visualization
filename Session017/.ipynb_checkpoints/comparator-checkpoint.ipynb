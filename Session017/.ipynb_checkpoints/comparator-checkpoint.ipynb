{
 "cells": [
  {
   "cell_type": "code",
   "execution_count": 9,
   "id": "d37d7c2e-b44b-44b2-b605-682f375b2367",
   "metadata": {
    "execution": {
     "iopub.execute_input": "2024-10-09T11:06:30.245020Z",
     "iopub.status.busy": "2024-10-09T11:06:30.245020Z",
     "iopub.status.idle": "2024-10-09T11:06:30.248091Z",
     "shell.execute_reply": "2024-10-09T11:06:30.248091Z",
     "shell.execute_reply.started": "2024-10-09T11:06:30.245020Z"
    }
   },
   "outputs": [],
   "source": [
    "import pandas as pd\n",
    "from sklearn.model_selection import train_test_split, GridSearchCV, cross_val_score\n",
    "from sklearn.linear_model import LogisticRegression\n",
    "from sklearn.ensemble import RandomForestClassifier, GradientBoostingClassifier\n",
    "from sklearn.metrics import classification_report\n",
    "import xgboost as xgb"
   ]
  },
  {
   "cell_type": "code",
   "execution_count": 11,
   "id": "4ac62474-541d-4b29-8299-ccb5d1bd285e",
   "metadata": {
    "execution": {
     "iopub.execute_input": "2024-10-09T11:07:02.491899Z",
     "iopub.status.busy": "2024-10-09T11:07:02.491899Z",
     "iopub.status.idle": "2024-10-09T11:07:02.784553Z",
     "shell.execute_reply": "2024-10-09T11:07:02.784216Z",
     "shell.execute_reply.started": "2024-10-09T11:07:02.491899Z"
    }
   },
   "outputs": [],
   "source": [
    "rawdata = pd.read_csv('name_gender.csv')\n",
    "\n",
    "df = pd.DataFrame(rawdata)\n",
    "df.head(5)\n",
    "\n",
    "\n",
    "# Feature Engineering\n",
    "df['name_length'] = df['name'].apply(len)\n",
    "df['initial'] = df['name'].str[0]\n",
    "df['suffix'] = df['name'].str[-1]  # Last character\n",
    "df['vowel_count'] = df['name'].apply(lambda x: sum(1 for char in x if char.lower() in 'aeiou'))\n",
    "df['consonant_count'] = df['name'].apply(lambda x: sum(1 for char in x if char.lower() not in 'aeiou'))\n",
    "df['vowel_consonant_ratio'] = df['vowel_count'] / df['consonant_count'].replace(0, 1)  # Avoid division by zero\n",
    "\n",
    "\n",
    "df['gender'] = df['gender'].map({'female': 1, 'male': 0})  # Encode gender\n",
    "\n",
    "X = df[['name_length', 'vowel_count', 'consonant_count', 'vowel_consonant_ratio']]\n",
    "y = df['gender']\n",
    "\n",
    "# Split the data\n",
    "X_train, X_test, y_train, y_test = train_test_split(X, y, test_size=0.2, random_state=42)\n",
    "\n",
    "# Define models and hyperparameters\n",
    "models = {\n",
    "    \"Logistic Regression\": (LogisticRegression(max_iter=1000), {}),\n",
    "    \"Random Forest\": (RandomForestClassifier(random_state=42), {\n",
    "        'n_estimators': [50, 100],\n",
    "        'max_depth': [None, 10, 20]\n",
    "    }),\n",
    "    \"Gradient Boosting\": (GradientBoostingClassifier(), {\n",
    "        'n_estimators': [50, 100],\n",
    "        'learning_rate': [0.01, 0.1]\n",
    "    }),\n",
    "    \"XGBoost\": (xgb.XGBClassifier(use_label_encoder=False, eval_metric='logloss'), {\n",
    "        'n_estimators': [50, 100],\n",
    "        'learning_rate': [0.01, 0.1]\n",
    "    })\n",
    "}\n",
    "\n",
    "# Train and evaluate models\n",
    "for model_name, (model, params) in models.items():\n",
    "    if params:\n",
    "        grid_search = GridSearchCV(model, params, cv=5)\n",
    "        grid_search.fit(X_train, y_train)\n",
    "        best_model = grid_search.best_estimator_\n",
    "    else:\n",
    "        model.fit(X_train, y_train)\n",
    "        best_model = model\n",
    "\n",
    "    # Cross-validate the best model\n",
    "    scores = cross_val_score(best_model, X, y, cv=5)\n",
    "    print(f\"{model_name} - Cross-validated accuracy: {scores.mean():.2f}\")\n",
    "\n",
    "    # Evaluate on the test set\n",
    "    y_pred = best_model.predict(X_test)\n",
    "    print(classification_report(y_test, y_pred))"
   ]
  },
  {
   "cell_type": "code",
   "execution_count": null,
   "id": "5dc5620d-3405-4efb-8700-ebae01e1d6ba",
   "metadata": {},
   "outputs": [],
   "source": []
  }
 ],
 "metadata": {
  "kernelspec": {
   "display_name": "Python 3 (ipykernel)",
   "language": "python",
   "name": "python3"
  },
  "language_info": {
   "codemirror_mode": {
    "name": "ipython",
    "version": 3
   },
   "file_extension": ".py",
   "mimetype": "text/x-python",
   "name": "python",
   "nbconvert_exporter": "python",
   "pygments_lexer": "ipython3",
   "version": "3.12.6"
  }
 },
 "nbformat": 4,
 "nbformat_minor": 5
}
