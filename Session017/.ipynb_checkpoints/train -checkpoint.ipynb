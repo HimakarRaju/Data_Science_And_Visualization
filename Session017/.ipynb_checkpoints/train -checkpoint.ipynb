{
 "cells": [
  {
   "cell_type": "code",
   "execution_count": 2,
   "id": "6d366910-645b-4770-bc93-4b0cddb62e0d",
   "metadata": {
    "execution": {
     "iopub.execute_input": "2024-10-09T09:45:41.065039Z",
     "iopub.status.busy": "2024-10-09T09:45:41.065039Z",
     "iopub.status.idle": "2024-10-09T09:45:42.422581Z",
     "shell.execute_reply": "2024-10-09T09:45:42.422581Z",
     "shell.execute_reply.started": "2024-10-09T09:45:41.065039Z"
    }
   },
   "outputs": [],
   "source": [
    "import pandas as pd\n",
    "from sklearn.model_selection import train_test_split\n",
    "from sklearn.linear_model import LogisticRegression\n",
    "from sklearn.ensemble import RandomForestClassifier\n",
    "from sklearn.tree import DecisionTreeClassifier\n",
    "from sklearn.metrics import classification_report,accuracy_score\n",
    "import re"
   ]
  },
  {
   "cell_type": "code",
   "execution_count": 3,
   "id": "60a5353a-2d1a-4837-a1f5-71d82bebf52d",
   "metadata": {
    "execution": {
     "iopub.execute_input": "2024-10-09T09:45:42.424610Z",
     "iopub.status.busy": "2024-10-09T09:45:42.423607Z",
     "iopub.status.idle": "2024-10-09T09:45:42.473175Z",
     "shell.execute_reply": "2024-10-09T09:45:42.473175Z",
     "shell.execute_reply.started": "2024-10-09T09:45:42.423607Z"
    }
   },
   "outputs": [],
   "source": [
    "# Load data\n",
    "data = pd.read_csv('name_gender.csv')\n",
    "\n",
    "# Drop undefined genders\n",
    "data = data[data['gender'] != 'undefined']"
   ]
  },
  {
   "cell_type": "code",
   "execution_count": 4,
   "id": "d19ca386-7f97-4b9f-8f63-63421e6b7f76",
   "metadata": {
    "execution": {
     "iopub.execute_input": "2024-10-09T09:45:42.474181Z",
     "iopub.status.busy": "2024-10-09T09:45:42.474181Z",
     "iopub.status.idle": "2024-10-09T09:45:42.514143Z",
     "shell.execute_reply": "2024-10-09T09:45:42.514143Z",
     "shell.execute_reply.started": "2024-10-09T09:45:42.474181Z"
    }
   },
   "outputs": [],
   "source": [
    "# Feature Engineering: Extract name length and first letter\n",
    "data['name_length'] = data['name'].apply(len)\n",
    "data['first_letter'] = data['name'].apply(lambda x: x[0].lower())\n",
    "\n",
    "# Encode gender labels\n",
    "data['gender'] = data['gender'].map({'M': 0, 'F': 1})"
   ]
  },
  {
   "cell_type": "code",
   "execution_count": 5,
   "id": "a4e6f73a-cf06-4f36-9e49-d3a8125524b5",
   "metadata": {
    "execution": {
     "iopub.execute_input": "2024-10-09T09:45:42.515149Z",
     "iopub.status.busy": "2024-10-09T09:45:42.515149Z",
     "iopub.status.idle": "2024-10-09T09:45:42.533269Z",
     "shell.execute_reply": "2024-10-09T09:45:42.533269Z",
     "shell.execute_reply.started": "2024-10-09T09:45:42.515149Z"
    }
   },
   "outputs": [],
   "source": [
    "# Split data into features (X) and target (y)\n",
    "X = data[['name_length', 'first_letter']]\n",
    "y = data['gender']\n",
    "\n",
    "# Convert 'first_letter' to a numerical feature\n",
    "X = pd.get_dummies(X, columns=['first_letter'], drop_first=True)"
   ]
  },
  {
   "cell_type": "code",
   "execution_count": 6,
   "id": "96755d9e-a128-4ce3-8a04-f0d97fb538fd",
   "metadata": {
    "execution": {
     "iopub.execute_input": "2024-10-09T09:45:46.003905Z",
     "iopub.status.busy": "2024-10-09T09:45:46.003905Z",
     "iopub.status.idle": "2024-10-09T09:45:46.268215Z",
     "shell.execute_reply": "2024-10-09T09:45:46.268215Z",
     "shell.execute_reply.started": "2024-10-09T09:45:46.003905Z"
    }
   },
   "outputs": [
    {
     "name": "stdout",
     "output_type": "stream",
     "text": [
      "Logistic Regression\n",
      "              precision    recall  f1-score   support\n",
      "\n",
      "           0       0.55      0.12      0.20     10333\n",
      "           1       0.65      0.94      0.77     18175\n",
      "\n",
      "    accuracy                           0.65     28508\n",
      "   macro avg       0.60      0.53      0.48     28508\n",
      "weighted avg       0.62      0.65      0.56     28508\n",
      "\n"
     ]
    }
   ],
   "source": [
    "# Split into train/test sets\n",
    "X_train, X_test, y_train, y_test = train_test_split(X, y, test_size=0.3)\n",
    "\n",
    "# Train a logistic regression model\n",
    "model = LogisticRegression()\n",
    "model.fit(X_train, y_train)\n",
    "\n",
    "# Predict on test set\n",
    "y_pred = model.predict(X_test)\n",
    "\n",
    "# Evaluate the model\n",
    "print(\"Logistic Regression\")\n",
    "print(\"Accuracy: \", accuracy_score(y_test, y_pred))\n",
    "print(classification_report(y_test, y_pred))"
   ]
  },
  {
   "cell_type": "code",
   "execution_count": null,
   "id": "f077df38-0888-4de1-b5ba-28a599337699",
   "metadata": {},
   "outputs": [],
   "source": []
  },
  {
   "cell_type": "code",
   "execution_count": null,
   "id": "95274d21-601a-4cd9-8cc9-b0d3c1de7726",
   "metadata": {},
   "outputs": [],
   "source": []
  },
  {
   "cell_type": "code",
   "execution_count": 7,
   "id": "be878ca4-3bc2-448c-87bf-05342a1caa0a",
   "metadata": {
    "execution": {
     "iopub.execute_input": "2024-10-09T09:45:49.721145Z",
     "iopub.status.busy": "2024-10-09T09:45:49.721145Z",
     "iopub.status.idle": "2024-10-09T09:45:52.141517Z",
     "shell.execute_reply": "2024-10-09T09:45:52.141517Z",
     "shell.execute_reply.started": "2024-10-09T09:45:49.721145Z"
    }
   },
   "outputs": [
    {
     "name": "stdout",
     "output_type": "stream",
     "text": [
      "RandomForestClassifier\n",
      "              precision    recall  f1-score   support\n",
      "\n",
      "           0       0.54      0.24      0.33     10395\n",
      "           1       0.67      0.88      0.76     18113\n",
      "\n",
      "    accuracy                           0.65     28508\n",
      "   macro avg       0.61      0.56      0.55     28508\n",
      "weighted avg       0.62      0.65      0.61     28508\n",
      "\n"
     ]
    }
   ],
   "source": [
    "# Split into train/test sets\n",
    "X_train, X_test, y_train, y_test = train_test_split(X, y, test_size=0.3)\n",
    "\n",
    "# Train a logistic regression model\n",
    "model = RandomForestClassifier()\n",
    "model.fit(X_train, y_train)\n",
    "\n",
    "# Predict on test set\n",
    "y_pred = model.predict(X_test)\n",
    "\n",
    "# Evaluate the model\n",
    "print(\"RandomForestClassifier\")\n",
    "print(\"Accuracy: \", accuracy_score(y_test, y_pred))\n",
    "print(classification_report(y_test, y_pred))"
   ]
  },
  {
   "cell_type": "code",
   "execution_count": null,
   "id": "cd5aeb0f-ba24-44ac-b843-f112c200c98a",
   "metadata": {},
   "outputs": [],
   "source": []
  },
  {
   "cell_type": "code",
   "execution_count": 11,
   "id": "4c98d2ed-255a-43e1-badc-ab23dbcd69e4",
   "metadata": {
    "execution": {
     "iopub.execute_input": "2024-10-09T09:47:37.297067Z",
     "iopub.status.busy": "2024-10-09T09:47:37.297067Z",
     "iopub.status.idle": "2024-10-09T09:47:37.413634Z",
     "shell.execute_reply": "2024-10-09T09:47:37.413634Z",
     "shell.execute_reply.started": "2024-10-09T09:47:37.297067Z"
    }
   },
   "outputs": [
    {
     "name": "stdout",
     "output_type": "stream",
     "text": [
      "DecisionTreeClassifier\n",
      "              precision    recall  f1-score   support\n",
      "\n",
      "           0       0.54      0.24      0.33     10292\n",
      "           1       0.67      0.88      0.76     18216\n",
      "\n",
      "    accuracy                           0.65     28508\n",
      "   macro avg       0.60      0.56      0.55     28508\n",
      "weighted avg       0.62      0.65      0.61     28508\n",
      "\n"
     ]
    }
   ],
   "source": [
    "# Split into train/test sets\n",
    "X_train, X_test, y_train, y_test = train_test_split(X, y, test_size=0.3)\n",
    "\n",
    "# Train a logistic regression model\n",
    "model = DecisionTreeClassifier()\n",
    "model.fit(X_train, y_train)\n",
    "\n",
    "# Predict on test set\n",
    "y_pred = model.predict(X_test)\n",
    "\n",
    "# Evaluate the model\n",
    "print(\"DecisionTreeClassifier\")\n",
    "print(\"Accuracy: \", accuracy_score(y_test, y_pred))\n",
    "print(classification_report(y_test, y_pred))"
   ]
  },
  {
   "cell_type": "code",
   "execution_count": null,
   "id": "ff13cb96-3046-4255-add8-a8b32206c6ff",
   "metadata": {},
   "outputs": [],
   "source": []
  },
  {
   "cell_type": "code",
   "execution_count": null,
   "id": "6a99d54f-2ef3-40ee-9981-0f25489360fa",
   "metadata": {},
   "outputs": [],
   "source": []
  }
 ],
 "metadata": {
  "kernelspec": {
   "display_name": "Python 3 (ipykernel)",
   "language": "python",
   "name": "python3"
  },
  "language_info": {
   "codemirror_mode": {
    "name": "ipython",
    "version": 3
   },
   "file_extension": ".py",
   "mimetype": "text/x-python",
   "name": "python",
   "nbconvert_exporter": "python",
   "pygments_lexer": "ipython3",
   "version": "3.12.6"
  }
 },
 "nbformat": 4,
 "nbformat_minor": 5
}
