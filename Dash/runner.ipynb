{
 "cells": [
  {
   "cell_type": "code",
   "execution_count": 1,
   "id": "66c5e8fa-de65-48ce-86dd-274637de854e",
   "metadata": {
    "execution": {
     "iopub.execute_input": "2024-10-07T03:45:21.967541Z",
     "iopub.status.busy": "2024-10-07T03:45:21.965720Z",
     "iopub.status.idle": "2024-10-07T03:45:30.451232Z",
     "shell.execute_reply": "2024-10-07T03:45:30.449684Z",
     "shell.execute_reply.started": "2024-10-07T03:45:21.967541Z"
    }
   },
   "outputs": [
    {
     "name": "stderr",
     "output_type": "stream",
     "text": [
      "ERROR: Could not find a version that satisfies the requirement tessaract (from versions: none)\n",
      "ERROR: No matching distribution found for tessaract\n"
     ]
    }
   ],
   "source": [
    "!pip install tessaract opencv-python sympy pillow"
   ]
  },
  {
   "cell_type": "code",
   "execution_count": null,
   "id": "2aeec3a5-1877-4c86-81f4-6256f7edc8a7",
   "metadata": {},
   "outputs": [],
   "source": []
  }
 ],
 "metadata": {
  "kernelspec": {
   "display_name": "Python 3 (ipykernel)",
   "language": "python",
   "name": "python3"
  },
  "language_info": {
   "codemirror_mode": {
    "name": "ipython",
    "version": 3
   },
   "file_extension": ".py",
   "mimetype": "text/x-python",
   "name": "python",
   "nbconvert_exporter": "python",
   "pygments_lexer": "ipython3",
   "version": "3.12.6"
  }
 },
 "nbformat": 4,
 "nbformat_minor": 5
}
