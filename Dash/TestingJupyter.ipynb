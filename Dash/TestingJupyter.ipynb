{
 "cells": [
  {
   "cell_type": "code",
   "execution_count": 1,
   "id": "e2929a80-ee1b-4b29-b3b3-a59939f398b3",
   "metadata": {
    "execution": {
     "iopub.execute_input": "2024-10-06T18:10:42.701771Z",
     "iopub.status.busy": "2024-10-06T18:10:42.701771Z",
     "iopub.status.idle": "2024-10-06T18:10:57.810616Z",
     "shell.execute_reply": "2024-10-06T18:10:57.809726Z",
     "shell.execute_reply.started": "2024-10-06T18:10:42.701771Z"
    }
   },
   "outputs": [],
   "source": [
    "import pandas as pd\n",
    "import plotly.express as px\n",
    "\n",
    "import dash\n",
    "from dash import dcc, html\n",
    "from dash.dependencies import Input, Output"
   ]
  },
  {
   "cell_type": "code",
   "execution_count": 3,
   "id": "e9d9e961-18f0-4cdc-9f6c-2441907e8e3c",
   "metadata": {
    "execution": {
     "iopub.execute_input": "2024-10-06T18:15:53.558989Z",
     "iopub.status.busy": "2024-10-06T18:15:53.558264Z",
     "iopub.status.idle": "2024-10-06T18:15:53.666537Z",
     "shell.execute_reply": "2024-10-06T18:15:53.664979Z",
     "shell.execute_reply.started": "2024-10-06T18:15:53.558989Z"
    }
   },
   "outputs": [
    {
     "data": {
      "text/html": [
       "\n",
       "        <iframe\n",
       "            width=\"100%\"\n",
       "            height=\"650\"\n",
       "            src=\"http://127.0.0.1:8050/\"\n",
       "            frameborder=\"0\"\n",
       "            allowfullscreen\n",
       "            \n",
       "        ></iframe>\n",
       "        "
      ],
      "text/plain": [
       "<IPython.lib.display.IFrame at 0x155442bc8f0>"
      ]
     },
     "metadata": {},
     "output_type": "display_data"
    }
   ],
   "source": [
    "# Sample DataFrame\n",
    "data = {\n",
    "    \"Category\": [\"A\", \"B\", \"A\", \"C\", \"B\", \"A\", \"C\", \"B\"],\n",
    "    \"Subcategory\": [\"X\", \"Y\", \"X\", \"Y\", \"X\", \"Z\", \"Y\", \"Z\"],\n",
    "    \"Value1\": [10, 15, 12, 14, 10, 13, 18, 17],\n",
    "    \"Value2\": [5.4, 3.3, 5.7, 4.4, 2.5, 6.1, 4.8, 5.0],\n",
    "}\n",
    "df = pd.DataFrame(data)\n",
    "\n",
    "# Initialize Dash app\n",
    "app = dash.Dash(__name__)\n",
    "\n",
    "# App Layout\n",
    "app.layout = html.Div(\n",
    "    [\n",
    "        html.H1(\"Interactive Dashboard with Dash and Plotly\"),\n",
    "        # Dropdown to select categorical column\n",
    "        html.Label(\"Select Categorical Column\"),\n",
    "        dcc.Dropdown(\n",
    "            id=\"categorical-column\",\n",
    "            options=[\n",
    "                {\"label\": col, \"value\": col}\n",
    "                for col in df.select_dtypes(include=[\"object\"]).columns\n",
    "            ],\n",
    "            value=\"Category\",  # Default value\n",
    "            clearable=False,\n",
    "        ),\n",
    "        # Dropdown to select numerical column\n",
    "        html.Label(\"Select Numerical Column\"),\n",
    "        dcc.Dropdown(\n",
    "            id=\"numerical-column\",\n",
    "            options=[\n",
    "                {\"label\": col, \"value\": col}\n",
    "                for col in df.select_dtypes(include=[\"number\"]).columns\n",
    "            ],\n",
    "            value=\"Value1\",  # Default value\n",
    "            clearable=False,\n",
    "        ),\n",
    "        # Graph Output\n",
    "        dcc.Graph(id=\"bar-graph\"),\n",
    "    ]\n",
    ")\n",
    "\n",
    "\n",
    "# Callback to update graph based on user input\n",
    "@app.callback(\n",
    "    Output(\"bar-graph\", \"figure\"),\n",
    "    [Input(\"categorical-column\", \"value\"), Input(\"numerical-column\", \"value\")],\n",
    ")\n",
    "def update_graph(categorical_col, numerical_col):\n",
    "    fig = px.bar(\n",
    "        df,\n",
    "        x=categorical_col,\n",
    "        y=numerical_col,\n",
    "        color=categorical_col,\n",
    "        title=f\"Bar plot of {numerical_col} by {categorical_col}\",\n",
    "    )\n",
    "    return fig\n",
    "\n",
    "\n",
    "if __name__ == \"__main__\":\n",
    "    app.run_server(debug=True)"
   ]
  },
  {
   "cell_type": "code",
   "execution_count": null,
   "id": "4232e625-b7a7-4cf9-89bc-b2beb3d3d8b3",
   "metadata": {},
   "outputs": [],
   "source": []
  },
  {
   "cell_type": "code",
   "execution_count": null,
   "id": "224de2c0-2572-44a2-a233-953758c5e52f",
   "metadata": {},
   "outputs": [],
   "source": []
  }
 ],
 "metadata": {
  "kernelspec": {
   "display_name": "Python 3 (ipykernel)",
   "language": "python",
   "name": "python3"
  },
  "language_info": {
   "codemirror_mode": {
    "name": "ipython",
    "version": 3
   },
   "file_extension": ".py",
   "mimetype": "text/x-python",
   "name": "python",
   "nbconvert_exporter": "python",
   "pygments_lexer": "ipython3",
   "version": "3.12.6"
  }
 },
 "nbformat": 4,
 "nbformat_minor": 5
}
