{
 "cells": [
  {
   "cell_type": "code",
   "execution_count": 5,
   "id": "5e57ed74-9e32-48d0-9656-7841c4e56fe6",
   "metadata": {},
   "outputs": [
    {
     "ename": "AttributeError",
     "evalue": "'str' object has no attribute 'read_excel'",
     "output_type": "error",
     "traceback": [
      "\u001b[1;31m------------------------------------------------------------\u001b[0m",
      "\u001b[1;31mAttributeError\u001b[0m             Traceback (most recent call last)",
      "Cell \u001b[1;32mIn[5], line 4\u001b[0m\n\u001b[0;32m      1\u001b[0m \u001b[38;5;28;01mimport\u001b[39;00m \u001b[38;5;21;01mpandas\u001b[39;00m \u001b[38;5;28;01mas\u001b[39;00m \u001b[38;5;21;01mpd\u001b[39;00m\n\u001b[0;32m      3\u001b[0m f_name \u001b[38;5;241m=\u001b[39m \u001b[38;5;124m'\u001b[39m\u001b[38;5;124mDesktop/Wipro Pre Skilling/Python/Data_Science_And_Visualization/Day5/Pandas/BirdStrikeDataSet.xlsx\u001b[39m\u001b[38;5;124m'\u001b[39m\n\u001b[1;32m----> 4\u001b[0m data \u001b[38;5;241m=\u001b[39m f_name\u001b[38;5;241m.\u001b[39mread_excel()\n\u001b[0;32m      5\u001b[0m col_avgs \u001b[38;5;241m=\u001b[39m data\u001b[38;5;241m.\u001b[39mmean()\n\u001b[0;32m      6\u001b[0m \u001b[38;5;28mprint\u001b[39m(\u001b[38;5;124m\"\u001b[39m\u001b[38;5;124maverages\u001b[39m\u001b[38;5;124m\"\u001b[39m)\n",
      "\u001b[1;31mAttributeError\u001b[0m: 'str' object has no attribute 'read_excel'"
     ]
    }
   ],
   "source": [
    "import pandas as pd\n",
    "\n",
    "f_name = 'Desktop/Wipro Pre Skilling/Python/Data_Science_And_Visualization/Day5/Pandas/BirdStrikeDataSet.xlsx'\n",
    "data = pd.read_excel(f_name)\n",
    "col_avgs = data.mean()\n",
    "print(\"averages\")\n",
    "print(col_avgs)"
   ]
  },
  {
   "cell_type": "code",
   "execution_count": null,
   "id": "e2f58b56-ab31-4785-b764-fe779c7f750a",
   "metadata": {},
   "outputs": [],
   "source": []
  }
 ],
 "metadata": {
  "kernelspec": {
   "display_name": "Python 3 (ipykernel)",
   "language": "python",
   "name": "python3"
  },
  "language_info": {
   "codemirror_mode": {
    "name": "ipython",
    "version": 3
   },
   "file_extension": ".py",
   "mimetype": "text/x-python",
   "name": "python",
   "nbconvert_exporter": "python",
   "pygments_lexer": "ipython3",
   "version": "3.12.4"
  }
 },
 "nbformat": 4,
 "nbformat_minor": 5
}
