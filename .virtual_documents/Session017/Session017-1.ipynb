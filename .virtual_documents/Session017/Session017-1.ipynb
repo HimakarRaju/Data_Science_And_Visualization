


from mermaid import Mermaid

Mermaid(
    """%%{
    init: {
        'theme': 'base',
        'themeVariables': {
        'primaryColor': '#BB2528',
        'primaryTextColor': '#fff',
        'primaryBorderColor': '#7C0000',
        'lineColor': '#F8B229',
        'secondaryColor': '#006100',
        'tertiaryColor': '#fff'
        }
    }
    }%%
    graph LR
    A[Gender Guesser] --> B(Load Data)
    B(Load Data) --> C(Train Data)
    C(Train Data)--> D{Ask Predict or Train}
    D{Ask Predict or Train} --> |Predict| E(Predict) --> F(Ask user for name)
    F(Ask user for name) --> G(If can be predicted) --> H(Give Output as male or female or neutral) -->L(ask user confirm name add to data)
    F(Ask user for name) --> J(If cannot be predicted) --> K(check the gender logic)  --> L(ask user confirm name add to data) --> I(ask to the user another name or exit)
    D{Ask Predict or Train} --> |Train| M(Train) --> N(Ask user for name and gender) --> O(save it to pickle file) -->  B(Load Data)
"""
)











# #Test 18
# import pickle
# import numpy as np
# from sklearn.feature_extraction.text import TfidfVectorizer
# from sklearn.metrics import accuracy_score
# from sklearn.model_selection import train_test_split
# from sklearn.naive_bayes import DecisionTreeClassifier

# class MyModel:
#     def __init__(self):
#         self.vectorizer = TfidfVectorizer()
#         self.model = DecisionTreeClassifier()
#         self.train_raw_data = None
#         self.is_trained = False

#     def train(self, train_raw_data):
#         """Train the model with provided raw data."""
#         self.train_raw_data = train_raw_data
#         names, genders = zip(*train_raw_data)
#         gender_map = {"M": 1, "F": 0}  # Map gender labels to numerical values
#         y = np.array([gender_map[gender] for gender in genders])
#         X = self.vectorizer.fit_transform(names)

#         X_train, X_test, y_train, y_test = train_test_split(X, y, test_size=0.3, random_state=42)
#         self.model.fit(X_train, y_train)
#         y_pred = self.model.predict(X_test)
#         print("Accuracy:", accuracy_score(y_test, y_pred))
#         self.is_trained = True

#     def learn(self, name, gender):
#         """Update the model with a new example and append to raw data."""
#         if not self.is_trained:
#             print("Model needs to be trained first.")
#             return
        
#         gender_map = {"M": 1, "F": 0}
#         X = self.vectorizer.transform([name])
#         self.model.partial_fit(X, [gender_map[gender]], classes=[0, 1])

#         # Append new data to raw data file
#         new_data = [(name, gender)]
#         append_to_raw_data(new_data)

#     def predict(self, name):
#         """Predict gender based on the name."""
#         if not self.is_trained:
#             print("Model is not trained.")
#             return None

#         X = self.vectorizer.transform([name])
#         return self.model.predict(X)[0]

# def save_trained_model(model):
#     """Save the trained model object."""
#     try:
#         with open("trained_model.pkl", "wb") as f:
#             pickle.dump(model, f)
#     except Exception as e:
#         print("Error saving model:", str(e))

# def load_trained_model():
#     """Load the trained model object."""
#     try:
#         with open("trained_model.pkl", "rb") as f:
#             return pickle.load(f)
#     except FileNotFoundError:
#         print("Trained model not found. Please train the model first.")
#     except Exception as e:
#         print("Error loading trained model:", str(e))
#     return None

# def save_raw_data(raw_data):
#     """Save the raw training data."""
#     try:
#         with open("train_raw_data.pkl", "wb") as f:
#             pickle.dump(raw_data, f)
#     except Exception as e:
#         print("Error saving raw data:", str(e))

# def load_raw_data():
#     """Load the raw training data."""
#     try:
#         with open("train_raw_data.pkl", "rb") as f:
#             return pickle.load(f)
#     except FileNotFoundError:
#         print("Training data not found. Initializing empty raw data.")
#         return []  # Return an empty list if no raw data exists
#     except Exception as e:
#         print("Error loading training data:", str(e))
#     return []

# def append_to_raw_data(new_data):
#     """Append new data to the raw data file."""
#     raw_data = load_raw_data()  # Load existing raw data
#     raw_data.extend(new_data)  # Append new entries
#     save_raw_data(raw_data)  # Save updated raw data

# def get_user_choice():
#     """Prompt user for an action choice."""
#     while True:
#         usr_ipt = input("Choose option \nA) Predict \nB) Train from file \nC) Train manually\n").lower()
#         if usr_ipt in ["a", "b", "c"]:
#             return usr_ipt
#         print("Invalid choice. Please choose A, B or C.")

# def train_model_manually():
#     """Train the model manually by entering names and genders."""
#     train_raw_data = load_raw_data()  # Load existing raw data
#     new_data = []

#     while True:
#         name = input("Enter a name (or 'q' to quit): ").strip()
#         if name.lower() == "q":
#             break
#         gender = input("Enter the gender (M/F): ").upper().strip()
#         if gender in ["M", "F"]:
#             new_data.append((name, gender))
#         else:
#             print("Invalid gender input. Please enter M or F.")

#     if new_data:
#         train_raw_data.extend(new_data)  # Add new entries to raw data
#         model = MyModel()
#         model.train(train_raw_data)  # Train with both old and new data
#         save_raw_data(train_raw_data)  # Save updated raw data
#         save_trained_model(model)  # Save the trained model

# def main():
    
#     """Main function to handle user interaction."""
    
#     print("Loading Trained Model\n")
#     model = load_trained_model()  # Load the trained model object
#     if model is None:
#         model = MyModel()

#     user_choice = get_user_choice()

#     if user_choice == "a":
#         name = input("Enter a name: ")
#         predicted_gender = model.predict(name)
#         if predicted_gender is not None:
#             gender_str = "Male" if predicted_gender == 1 else "Female"
#             print(f"Predicted gender: {gender_str}")

#             # Optionally allow the user to teach the model based on their feedback
#             user_feedback = input(f"Is the prediction correct? (Y/N): ").strip().upper()
#             if user_feedback == "N":
#                 correct_gender = input("Please enter the correct gender (M/F): ").strip().upper()
#                 if correct_gender in ["M", "F"]:
#                     model.learn(name, correct_gender)
#                     save_trained_model(model)

#     elif user_choice == "b":
#         train_raw_data = load_raw_data()  # Load the raw training data
#         if train_raw_data:
#             model.train(train_raw_data)  # Train the model with raw data
#             save_trained_model(model)

#     elif user_choice == "c":
#         train_model_manually()

# if __name__ == "__main__":
#     main()






#Test 19
import pickle
import numpy as np
import pandas as pd
from sklearn.feature_extraction.text import TfidfVectorizer
from sklearn.metrics import accuracy_score
from sklearn.model_selection import train_test_split
from sklearn.linear_model import DecisionTreeClassifier
from sklearn.metrics import classification_report,confusion_matrix

class MyModel:
    def __init__(self):
        self.vectorizer = TfidfVectorizer()
        self.model = DecisionTreeClassifier()
        self.train_raw_data = None
        self.is_trained = False

    def train(self, train_raw_data):
        """Train the model with provided raw data."""
        self.train_raw_data = train_raw_data
        names, genders = zip(*train_raw_data)
        gender_map = {"M": 1, "F": 0}  # Map gender labels to numerical values
        y = np.array([gender_map[gender] for gender in genders])
        X = self.vectorizer.fit_transform(names)

        X_train, X_test, y_train, y_test = train_test_split(X, y, test_size=0.3, random_state=42)
        self.model.fit(X_train, y_train)
        y_pred = self.model.predict(X_test)
        print("Accuracy: ", accuracy_score(y_test, y_pred))
        print("Training Accuracy: {:.2f}% ".format(logistic.score(x_train, y_train) * 100))
        print("Testing Accuracy: {:.2f}% ".format(logistic.score(x_test, y_test) * 100))
        matrix=confusion_matrix(y_test,predictions)
        print(f"confusion matrix : {matrix}")
        self.is_trained = True

    def learn(self, name, gender):
        """Update the model with a new example and append to raw data."""
        if not self.is_trained:
            print("Model needs to be trained first.")
            return
        
        gender_map = {"M": 1, "F": 0}
        X = self.vectorizer.transform([name])
        self.model.partial_fit(X, [gender_map[gender]], classes=[0, 1])

        # Append new data to raw data file
        new_data = [(name, gender)]
        append_to_raw_data(new_data)

    def predict(self, name):
        """Predict gender based on the name."""
        if not self.is_trained:
            print("Model is not trained.")
            return None

        X = self.vectorizer.transform([name])
        return self.model.predict(X)[0]

def save_trained_model(model):
    """Save the trained model object."""
    try:
        with open("trained_model.pkl", "wb") as f:
            pickle.dump(model, f)
    except Exception as e:
        print("Error saving model:", str(e))

def load_trained_model():
    """Load the trained model object."""
    try:
        with open("trained_model.pkl", "rb") as f:
            return pickle.load(f)
    except FileNotFoundError:
        print("Trained model not found. Please train the model first.")
    except Exception as e:
        print("Error loading trained model:", str(e))
    return None

def save_raw_data(raw_data):
    """Save the raw training data."""
    try:
        with open("train_raw_data.pkl", "wb") as f:
            pickle.dump(raw_data, f)
    except Exception as e:
        print("Error saving raw data:", str(e))

def load_raw_data():
    """Load the raw training data."""
    try:
        with open("train_raw_data.pkl", "rb") as f:
            raw_data = pickle.load(f)
            # Check if the data is a DataFrame, convert to list of tuples
            if isinstance(raw_data, pd.DataFrame):
                raw_data = raw_data.to_records(index=False).tolist()
            return raw_data
    except FileNotFoundError:
        print("Training data not found. Initializing empty raw data.")
        return []  # Return an empty list if no raw data exists
    except Exception as e:
        print("Error loading training data:", str(e))
    return []

def append_to_raw_data(new_data):
    """Append new data to the raw data file."""
    raw_data = load_raw_data()  # Load existing raw data
    raw_data.extend(new_data)  # Append new entries
    save_raw_data(raw_data)  # Save updated raw data

def get_user_choice():
    """Prompt user for an action choice."""
    while True:
        usr_ipt = input("Choose option \nA) Predict \nB) Train from file \nC) Train manually\nQ) Quit\n\n").lower()
        if usr_ipt in ["a", "b", "c", "q"]:
            return usr_ipt
        print("Invalid choice. Please choose A, B, C or q.")

def train_model_manually():
    """Train the model manually by entering names and genders."""
    train_raw_data = load_raw_data()  # Load existing raw data
    new_data = []

    while True:
        name = input("Enter a name (or 'q' to quit): ").strip()
        if name.lower() == "q":
            break
        gender = input("Enter the gender (M/F): ").upper().strip()
        if gender in ["M", "F"]:
            new_data.append((name, gender))
        else:
            print("Invalid gender input. Please enter M or F.")

    if new_data:
        train_raw_data.extend(new_data)  # Add new entries to raw data
        model = MyModel()
        model.train(train_raw_data)  # Train with both old and new data
        save_raw_data(train_raw_data)  # Save updated raw data
        save_trained_model(model)  # Save the trained model

def main():
    
    """Main function to handle user interaction."""
    while True:
        print("\nLoading Trained Model")
        model = load_trained_model()  # Load the trained model object
        if model is None:
            model = MyModel()
        print("Model Loaded\n")
        user_choice = get_user_choice()
    
        if user_choice == "a":
            name = input("Enter a name: ")
            predicted_gender = model.predict(name)
            if predicted_gender is not None:
                gender_str = "Male" if predicted_gender == 1 else "Female"
                print(f"Predicted gender: {gender_str}")
    
                # Optionally allow the user to teach the model based on their feedback
                user_feedback = input(f"Is the prediction correct? (Y/N): ").strip().upper()
                if user_feedback == "N":
                    correct_gender = input("Please enter the correct gender (M/F): ").strip().upper()
                    if correct_gender in ["M", "F"]:
                        model.learn(name, correct_gender)
                        save_trained_model(model)
    
        elif user_choice == "b":
            train_raw_data = load_raw_data()  # Load the raw training data
            if train_raw_data:
                model.train(train_raw_data)  # Train the model with raw data
                save_trained_model(model)
    
        elif user_choice == "c":
            train_model_manually()
            
        elif user_choice == "q":
            break

if __name__ == "__main__":
    main()












#Test 20
import pickle
import numpy as np
import pandas as pd
from sklearn.feature_extraction.text import TfidfVectorizer
from sklearn.metrics import accuracy_score
from sklearn.model_selection import train_test_split
# from sklearn.linear_model import LogisticRegression
# from sklearn.tree import DecisionTreeClassifier
from sklearn.linear_model import SGDClassifier

from sklearn.metrics import classification_report,confusion_matrix
from collections import Counter


class MyModel:
    def __init__(self):
        self.vectorizer = TfidfVectorizer()
        #self.model = DecisionTreeClassifier(class_weight="balanced")
        # self.model = LogisticRegression(class_weight="balanced")
        self.model = SGDClassifier(loss='log', class_weight='balanced')
        self.train_raw_data = None
        self.is_trained = False

    def train(self, train_raw_data):
        """Train the model with provided raw data."""
        self.train_raw_data = train_raw_data
        names, genders = zip(*train_raw_data)
        gender_map = {"M": 1, "F": 0}  # Map gender labels to numerical values
        y = np.array([gender_map[gender] for gender in genders])
        X = self.vectorizer.fit_transform(names)
        print("Class distribution:", Counter(y))
        X_train, X_test, y_train, y_test = train_test_split(X, y, test_size=0.3, random_state=42)
        self.model.fit(X_train, y_train)
        y_pred = self.model.predict(X_test)
        
        # Print Accuracy
        print("Accuracy: ", accuracy_score(y_test, y_pred))
        print("Training Accuracy: {:.2f}% ".format(self.model.score(X_train, y_train) * 100))
        print("Testing Accuracy: {:.2f}% ".format(self.model.score(X_test, y_test) * 100))
        
        # Confusion matrix
        matrix = confusion_matrix(y_test, y_pred)
        print(f"Confusion matrix: \n{matrix}")
        
        self.is_trained = True

    def learn(self, name, gender):
        """Update the model with a new example and append to raw data."""
        if not self.is_trained:
            print("Model needs to be trained first.")
            return
        
        gender_map = {"M": 1, "F": 0}
        X = self.vectorizer.transform([name])
        self.model.partial_fit(X, [gender_map[gender]], classes=[0, 1])

        # Append new data to raw data file
        new_data = [(name, gender)]
        append_to_raw_data(new_data)

    def predict(self, name):
        """Predict gender based on the name."""
        if not self.is_trained:
            print("Model is not trained.")
            return None

        X = self.vectorizer.transform([name])
        return self.model.predict(X)[0]

def save_trained_model(model):
    """Save the trained model object."""
    try:
        with open("trained_model.pkl", "wb") as f:
            pickle.dump(model, f)
    except Exception as e:
        print("Error saving model:", str(e))

def load_trained_model():
    """Load the trained model object."""
    try:
        with open("trained_model.pkl", "rb") as f:
            return pickle.load(f)
    except FileNotFoundError:
        print("Trained model not found. Please train the model first.")
    except Exception as e:
        print("Error loading trained model:", str(e))
    return None

def save_raw_data(raw_data):
    """Save the raw training data."""
    try:
        with open("train_raw_data.pkl", "wb") as f:
            pickle.dump(raw_data, f)
    except Exception as e:
        print("Error saving raw data:", str(e))

def load_raw_data():
    """Load the raw training data."""
    try:
        with open("train_raw_data.pkl", "rb") as f:
            raw_data = pickle.load(f)
            # Check if the data is a DataFrame, convert to list of tuples
            if isinstance(raw_data, pd.DataFrame):
                raw_data = raw_data.to_records(index=False).tolist()
            return raw_data
    except FileNotFoundError:
        print("Training data not found. Initializing empty raw data.")
        return []  # Return an empty list if no raw data exists
    except Exception as e:
        print("Error loading training data:", str(e))
    return []

def append_to_raw_data(new_data):
    """Append new data to the raw data file."""
    raw_data = load_raw_data()  # Load existing raw data
    raw_data.extend(new_data)  # Append new entries
    save_raw_data(raw_data)  # Save updated raw data

def get_user_choice():
    """Prompt user for an action choice."""
    while True:
        usr_ipt = input("Choose option \nA) Predict \nB) Train from file \nC) Train manually\nQ) Quit\n\n").lower()
        if usr_ipt in ["a", "b", "c", "q"]:
            return usr_ipt
        print("Invalid choice. Please choose A, B, C or q.")

def train_model_manually():
    """Train the model manually by entering names and genders."""
    train_raw_data = load_raw_data()  # Load existing raw data
    new_data = []

    while True:
        name = input("Enter a name (or 'q' to quit): ").strip()
        if name.lower() == "q":
            break
        gender = input("Enter the gender (M/F): ").upper().strip()
        if gender in ["M", "F"]:
            new_data.append((name, gender))
        else:
            print("Invalid gender input. Please enter M or F.")

    if new_data:
        train_raw_data.extend(new_data)  # Add new entries to raw data
        model = MyModel()
        model.train(train_raw_data)  # Train with both old and new data
        save_raw_data(train_raw_data)  # Save updated raw data
        save_trained_model(model)  # Save the trained model

def main():
    
    """Main function to handle user interaction."""
    while True:
        print("\nLoading Trained Model")
        model = load_trained_model()  # Load the trained model object
        if model is None:
            model = MyModel()
        print("Model Loaded\n")
        user_choice = get_user_choice()
    
        if user_choice == "a":
            name = input("Enter a name: ")
            predicted_gender = model.predict(name)
            if predicted_gender is not None:
                gender_str = "Male" if predicted_gender == 1 else "Female"
                print(f"Predicted gender: {gender_str}")
    
                # Optionally allow the user to teach the model based on their feedback
                user_feedback = input(f"Is the prediction correct? (Y/N): ").strip().upper()
                if user_feedback == "N":
                    correct_gender = input("Please enter the correct gender (M/F): ").strip().upper()
                    if correct_gender in ["M", "F"]:
                        model.learn(name, correct_gender)
                        save_trained_model(model)
    
        elif user_choice == "b":
            train_raw_data = load_raw_data()  # Load the raw training data
            if train_raw_data:
                model.train(train_raw_data)  # Train the model with raw data
                save_trained_model(model)
    
        elif user_choice == "c":
            train_model_manually()
            
        elif user_choice == "q":
            break

if __name__ == "__main__":
    main()



get_ipython().getoutput("pip install imbalanced-learn")





import pickle
import numpy as np
from sklearn.feature_extraction.text import TfidfVectorizer
from sklearn.metrics import accuracy_score, classification_report, confusion_matrix
from sklearn.model_selection import train_test_split
from imblearn.over_sampling import SMOTE
from sklearn.linear_model import SGDClassifier
from collections import Counter

class MyModel:
    def __init__(self):
        self.vectorizer = TfidfVectorizer()
        self.model = SGDClassifier(loss='log', class_weight='balanced')
        self.is_trained = False

    def train(self, train_raw_data):
        """Train the model with provided raw data."""
        names, genders = zip(*train_raw_data)
        gender_map = {"M": 1, "F": 0}  # Map gender labels to numerical values
        y = np.array([gender_map[gender] for gender in genders])
        X = self.vectorizer.fit_transform(names)

        print("Class distribution:", Counter(y))
        X_train, X_test, y_train, y_test = train_test_split(X, y, test_size=0.3, random_state=42)
        
        smote = SMOTE(random_state=42)
        X_resampled, y_resampled = smote.fit_resample(X_train, y_train)

        # Train model
        self.model.fit(X_resampled, y_resampled)
        y_pred = self.model.predict(X_test)

        # Print metrics
        print("Accuracy: ", accuracy_score(y_test, y_pred))
        print(f"Training Accuracy: {self.model.score(X_train, y_train) * 100:.2f}%")
        print(f"Testing Accuracy: {self.model.score(X_test, y_test) * 100:.2f}%")
        print("Confusion matrix:\n", confusion_matrix(y_test, y_pred))

        self.is_trained = True

    def learn(self, name, gender):
        """Update the model with a new example and append to raw data."""
        if not self.is_trained:
            print("Model needs to be trained first.")
            return

        gender_map = {"M": 1, "F": 0}
        X = self.vectorizer.transform([name])
        self.model.partial_fit(X, [gender_map[gender]], classes=[0, 1])
        append_to_raw_data([(name, gender)])

    def predict(self, name):
        """Predict gender based on the name."""
        if not self.is_trained:
            print("Model is not trained.")
            return None

        X = self.vectorizer.transform([name])
        return self.model.predict(X)[0]

def save_object(obj, filename):
    """Helper function to save any object."""
    try:
        with open(filename, "wb") as f:
            pickle.dump(obj, f)
    except Exception as e:
        print(f"Error saving {filename}: {e}")

def load_object(filename, default=None):
    """Helper function to load any object."""
    try:
        with open(filename, "rb") as f:
            return pickle.load(f)
    except FileNotFoundError:
        print(f"{filename} not found. Returning default.")
        return default
    except Exception as e:
        print(f"Error loading {filename}: {e}")
        return default

def append_to_raw_data(new_data):
    """Append new data to the raw data file."""
    raw_data = load_object("train_raw_data.pkl", [])
    raw_data.extend(new_data)
    save_object(raw_data, "train_raw_data.pkl")

def get_user_choice():
    """Prompt user for an action choice."""
    while True:
        usr_ipt = input("Choose option \nA) Predict \nB) Train from file \nC) Train manually\nQ) Quit\n\n").lower()
        if usr_ipt in ["a", "b", "c", "q"]:
            return usr_ipt
        print("Invalid choice. Please choose A, B, C or q.")

def train_model_manually():
    """Train the model manually by entering names and genders."""
    train_raw_data = load_object("train_raw_data.pkl", [])
    new_data = []

    while True:
        name = input("Enter a name (or 'q' to quit): ").strip()
        if name.lower() == "q":
            break
        gender = input("Enter the gender (M/F): ").upper().strip()
        if gender in ["M", "F"]:
            new_data.append((name, gender))
        else:
            print("Invalid gender input. Please enter M or F.")

    if new_data:
        train_raw_data.extend(new_data)
        model = MyModel()
        model.train(train_raw_data)  # Train with both old and new data
        save_object(train_raw_data, "train_raw_data.pkl")
        save_object(model, "trained_model.pkl")

def main():
    """Main function to handle user interaction."""
    while True:
        model = load_object("trained_model.pkl", MyModel())
        print("Model Loaded\n")
        user_choice = get_user_choice()
    
        if user_choice == "a":
            name = input("Enter a name: ").strip()
            predicted_gender = model.predict(name)
            if predicted_gender is not None:
                gender_str = "Male" if predicted_gender == 1 else "Female"
                print(f"Predicted gender: {gender_str}")
    
                user_feedback = input(f"Is the prediction correct? (Y/N): ").strip().upper()
                if user_feedback == "N":
                    correct_gender = input("Please enter the correct gender (M/F): ").strip().upper()
                    if correct_gender in ["M", "F"]:
                        model.learn(name, correct_gender)
                        save_object(model, "trained_model.pkl")
    
        elif user_choice == "b":
            train_raw_data = load_object("train_raw_data.pkl", [])
            if train_raw_data:
                model.train(train_raw_data)  # Train the model with raw data
                save_object(model, "trained_model.pkl")
    
        elif user_choice == "c":
            train_model_manually()
            
        elif user_choice == "q":
            break

if __name__ == "__main__":
    main()






import pickle
import numpy as np
from sklearn.feature_extraction.text import TfidfVectorizer
from sklearn.metrics import accuracy_score, classification_report, confusion_matrix
from sklearn.model_selection import train_test_split
from imblearn.over_sampling import SMOTE
from sklearn.ensemble import RandomForestClassifier
from collections import Counter

class MyModel:
    def __init__(self):
        self.vectorizer = TfidfVectorizer()
        # Using RandomForestClassifier instead of SGDClassifier
        self.model = RandomForestClassifier(class_weight='balanced', random_state=42)
        self.is_trained = False

    def train(self, train_raw_data):
        """Train the model with provided raw data."""
        names, genders = zip(*train_raw_data)
        gender_map = {"M": 1, "F": 0}  # Map gender labels to numerical values
        y = np.array([gender_map[gender] for gender in genders])
        X = self.vectorizer.fit_transform(names)

        print("Class distribution:", Counter(y))
        X_train, X_test, y_train, y_test = train_test_split(X, y, test_size=0.3, random_state=42)
        
        smote = SMOTE(random_state=42)
        X_resampled, y_resampled = smote.fit_resample(X_train, y_train)

        # Train model
        self.model.fit(X_resampled, y_resampled)
        y_pred = self.model.predict(X_test)

        # Print metrics
        print("Accuracy: ", accuracy_score(y_test, y_pred))
        print(f"Training Accuracy: {self.model.score(X_train, y_train) * 100:.2f}%")
        print(f"Testing Accuracy: {self.model.score(X_test, y_test) * 100:.2f}%")
        print("Confusion matrix:\n", confusion_matrix(y_test, y_pred))

        self.is_trained = True

    def learn(self, name, gender):
        """Update the model with a new example and append to raw data."""
        if not self.is_trained:
            print("Model needs to be trained first.")
            return

        gender_map = {"M": 1, "F": 0}
        X = self.vectorizer.transform([name])
        self.model.fit(X, [gender_map[gender]])  # Fit with new data incrementally
        append_to_raw_data([(name, gender)])

    def predict(self, name):
        """Predict gender based on the name."""
        if not self.is_trained:
            print("Model is not trained.")
            return None

        X = self.vectorizer.transform([name])
        return self.model.predict(X)[0]

def save_object(obj, filename):
    """Helper function to save any object."""
    try:
        with open(filename, "wb") as f:
            pickle.dump(obj, f)
    except Exception as e:
        print(f"Error saving {filename}: {e}")

def load_object(filename, default=None):
    """Helper function to load any object."""
    try:
        with open(filename, "rb") as f:
            return pickle.load(f)
    except FileNotFoundError:
        print(f"{filename} not found. Returning default.")
        return default
    except Exception as e:
        print(f"Error loading {filename}: {e}")
        return default

def append_to_raw_data(new_data):
    """Append new data to the raw data file."""
    raw_data = load_object("train_raw_data.pkl", [])
    raw_data.extend(new_data)
    save_object(raw_data, "train_raw_data.pkl")

def get_user_choice():
    """Prompt user for an action choice."""
    while True:
        usr_ipt = input("Choose option \nA) Predict \nB) Train from file \nC) Train manually\nQ) Quit\n\n").lower()
        if usr_ipt in ["a", "b", "c", "q"]:
            return usr_ipt
        print("Invalid choice. Please choose A, B, C or q.")

def train_model_manually():
    """Train the model manually by entering names and genders."""
    train_raw_data = load_object("train_raw_data.pkl", [])
    new_data = []

    while True:
        name = input("Enter a name (or 'q' to quit): ").strip()
        if name.lower() == "q":
            break
        gender = input("Enter the gender (M/F): ").upper().strip()
        if gender in ["M", "F"]:
            new_data.append((name, gender))
        else:
            print("Invalid gender input. Please enter M or F.")

    if new_data:
        train_raw_data.extend(new_data)
        model = MyModel()
        model.train(train_raw_data)  # Train with both old and new data
        save_object(train_raw_data, "train_raw_data.pkl")
        save_object(model, "trained_model.pkl")

def main():
    """Main function to handle user interaction."""
    while True:
        model = load_object("trained_model.pkl", MyModel())
        print("Model Loaded\n")
        user_choice = get_user_choice()
    
        if user_choice == "a":
            name = input("Enter a name: ").strip()
            predicted_gender = model.predict(name)
            if predicted_gender is not None:
                gender_str = "Male" if predicted_gender == 1 else "Female"
                print(f"Predicted gender: {gender_str}")
    
                user_feedback = input(f"Is the prediction correct? (Y/N): ").strip().upper()
                if user_feedback == "N":
                    correct_gender = input("Please enter the correct gender (M/F): ").strip().upper()
                    if correct_gender in ["M", "F"]:
                        model.learn(name, correct_gender)
                        save_object(model, "trained_model.pkl")
    
        elif user_choice == "b":
            train_raw_data = load_object("train_raw_data.pkl", [])
            if train_raw_data:
                model.train(train_raw_data)  # Train the model with raw data
                save_object(model, "trained_model.pkl")
    
        elif user_choice == "c":
            train_model_manually()
            
        elif user_choice == "q":
            break

if __name__ == "__main__":
    main()









import pickle
import numpy as np
from sklearn.feature_extraction.text import TfidfVectorizer
from sklearn.metrics import accuracy_score, classification_report, confusion_matrix
from sklearn.model_selection import train_test_split
from sklearn.linear_model import LinearRegression
from collections import Counter

class MyModel:
    def __init__(self):
        self.vectorizer = TfidfVectorizer()
        # Use Linear Regression for gender prediction
        self.model = LinearRegression()
        self.is_trained = False

    def train(self, train_raw_data):
        """Train the model with provided raw data."""
        names, genders = zip(*train_raw_data)
        gender_map = {"M": 1, "F": 0}  # Map gender labels to numerical values
        y = np.array([gender_map[gender] for gender in genders])
        X = self.vectorizer.fit_transform(names)

        print("Class distribution before balancing:", Counter(y))

        # To balance the dataset, we'll drop half of the majority class
        female_indices = np.where(y == 0)[0]  # Female indices
        male_indices = np.where(y == 1)[0]  # Male indices
        
        # If there are more females than males, drop half the female data
        if len(female_indices) > len(male_indices):
            num_to_drop = len(female_indices) - len(male_indices)
            female_indices = np.random.choice(female_indices, len(female_indices) - num_to_drop, replace=False)
        # If there are more males, drop half the male data
        elif len(male_indices) > len(female_indices):
            num_to_drop = len(male_indices) - len(female_indices)
            male_indices = np.random.choice(male_indices, len(male_indices) - num_to_drop, replace=False)

        # Recombine the balanced dataset
        balanced_indices = np.concatenate([female_indices, male_indices])
        X_balanced = X[balanced_indices]
        y_balanced = y[balanced_indices]

        # Split into train/test sets
        X_train, X_test, y_train, y_test = train_test_split(X_balanced, y_balanced, test_size=0.3, random_state=42)

        # Train the Linear Regression model
        self.model.fit(X_train, y_train)
        y_pred = self.model.predict(X_test)
        y_pred = np.round(y_pred)  # Round the predictions to 0 or 1
        
        # Print accuracy and confusion matrix
        print(f"Training Accuracy: {self.model.score(X_train, y_train) * 100:.2f}%")
        print(f"Testing Accuracy: {self.model.score(X_test, y_test) * 100:.2f}%")
        print("Confusion matrix:\n", confusion_matrix(y_test, y_pred))

        self.is_trained = True

    def learn(self, name, gender):
        """Update the model with a new example and append to raw data."""
        if not self.is_trained:
            print("Model needs to be trained first.")
            return

        gender_map = {"M": 1, "F": 0}
        X = self.vectorizer.transform([name])
        y = np.array([gender_map[gender]])

        # Train the model with the new data
        self.model.fit(X, y)
        append_to_raw_data([(name, gender)])

    def predict(self, name):
        """Predict gender based on the name."""
        if not self.is_trained:
            print("Model is not trained.")
            return None

        X = self.vectorizer.transform([name])
        prediction = self.model.predict(X)
        return int(round(prediction[0]))  # Round the prediction to 0 or 1


def save_object(obj, filename):
    """Helper function to save any object."""
    try:
        with open(filename, "wb") as f:
            pickle.dump(obj, f)
    except Exception as e:
        print(f"Error saving {filename}: {e}")

def load_object(filename, default=None):
    """Helper function to load any object."""
    try:
        with open(filename, "rb") as f:
            return pickle.load(f)
    except FileNotFoundError:
        print(f"{filename} not found. Returning default.")
        return default
    except Exception as e:
        print(f"Error loading {filename}: {e}")
        return default

def append_to_raw_data(new_data):
    """Append new data to the raw data file."""
    raw_data = load_object("train_raw_data.pkl", [])
    raw_data.extend(new_data)
    save_object(raw_data, "train_raw_data.pkl")

def get_user_choice():
    """Prompt user for an action choice."""
    while True:
        usr_ipt = input("Choose option \nA) Predict \nB) Train from file \nC) Train manually\nQ) Quit\n\n").lower()
        if usr_ipt in ["a", "b", "c", "q"]:
            return usr_ipt
        print("Invalid choice. Please choose A, B, C or q.")

def train_model_manually():
    """Train the model manually by entering names and genders."""
    train_raw_data = load_object("train_raw_data.pkl", [])
    new_data = []

    while True:
        name = input("Enter a name (or 'q' to quit): ").strip()
        if name.lower() == "q":
            break
        gender = input("Enter the gender (M/F): ").upper().strip()
        if gender in ["M", "F"]:
            new_data.append((name, gender))
        else:
            print("Invalid gender input. Please enter M or F.")

    if new_data:
        train_raw_data.extend(new_data)
        model = MyModel()
        model.train(train_raw_data)  # Train with both old and new data
        save_object(train_raw_data, "train_raw_data.pkl")
        save_object(model, "trained_model.pkl")

def main():
    """Main function to handle user interaction."""
    while True:
        model = load_object("trained_model.pkl", MyModel())
        print("Model Loaded\n")
        user_choice = get_user_choice()
    
        if user_choice == "a":
            name = input("Enter a name: ").strip()
            predicted_gender = model.predict(name)
            if predicted_gender is not None:
                gender_str = "Male" if predicted_gender == 1 else "Female"
                print(f"Predicted gender: {gender_str}")
    
                user_feedback = input(f"Is the prediction correct? (Y/N): ").strip().upper()
                if user_feedback == "N":
                    correct_gender = input("Please enter the correct gender (M/F): ").strip().upper()
                    if correct_gender in ["M", "F"]:
                        model.learn(name, correct_gender)
                        save_object(model, "trained_model.pkl")
    
        elif user_choice == "b":
            train_raw_data = load_object("train_raw_data.pkl", [])
            if train_raw_data:
                model.train(train_raw_data)  # Train the model with raw data
                save_object(model, "trained_model.pkl")
    
        elif user_choice == "c":
            train_model_manually()
            
        elif user_choice == "q":
            break

if __name__ == "__main__":
    main()













