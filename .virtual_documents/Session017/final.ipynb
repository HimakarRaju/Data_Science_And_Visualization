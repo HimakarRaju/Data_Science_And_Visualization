


import pandas as pd
import pickle


df = pd.read_csv('name_gender.csv')

df.drop(['probability'],axis=1,inplace=True)
df.head()


df.info()


df.describe()


df_copy = df.copy()
df_copy['gender']=df_copy['gender'].astype('category')
df_copy['gender']=df_copy['gender'].cat.codes


from sklearn.model_selection import train_test_split
x=df_copy.drop(['gender'],axis=1)
y=df_copy['gender']
x_train,x_test,y_train,y_test=train_test_split(x,y,test_size=0.3,stratify=y)


from sklearn.linear_model import LogisticRegression
logistic=LogisticRegression()


logistic.fit(x_train,y_train)


print("Training Accuracy: {:.2f}%".format(logistic.score(x_train, y_train) * 100))
print("Testing Accuracy: {:.2f}%".format(logistic.score(x_test, y_test) * 100))


from sklearn.metrics import classification_report,confusion_matrix
matrix=confusion_matrix(y_test,predictions)
print(matrix)


plt.figure(figsize=(6, 4))
sn.heatmap(matrix, annot=True, fmt='d', cmap='Blues', cbar=False, annot_kws={"size": 16})
plt.xlabel("Predicted Label")
plt.ylabel("True Label")
plt.title("Confusion Matrix Heatmap")
plt.show()


report=classification_report(y_test,predictions)
print(report)


user_input_name = input("enter name : ")
predictions_new = logistic.predict(user_input_name)

print(f'{user_input_name} is predicted as {predictions_new}')









