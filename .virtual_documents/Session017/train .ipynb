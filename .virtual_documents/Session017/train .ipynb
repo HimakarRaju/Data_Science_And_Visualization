import pandas as pd
from sklearn.model_selection import train_test_split
from sklearn.linear_model import LogisticRegression
from sklearn.ensemble import RandomForestClassifier
from sklearn.tree import DecisionTreeClassifier
from sklearn.metrics import classification_report,accuracy_score
import re


# Load data
data = pd.read_csv('name_gender.csv')

# Drop undefined genders
data = data[data['gender'] != 'undefined']


# Feature Engineering: Extract name length and first letter
data['name_length'] = data['name'].apply(len)
data['first_letter'] = data['name'].apply(lambda x: x[0].lower())

# Encode gender labels
data['gender'] = data['gender'].map({'M': 0, 'F': 1})


# Split data into features (X) and target (y)
X = data[['name_length', 'first_letter']]
y = data['gender']

# Convert 'first_letter' to a numerical feature
X = pd.get_dummies(X, columns=['first_letter'], drop_first=True)


# Split into train/test sets
X_train, X_test, y_train, y_test = train_test_split(X, y, test_size=0.3)

# Train a logistic regression model
model = LogisticRegression()
model.fit(X_train, y_train)

# Predict on test set
y_pred = model.predict(X_test)

# Evaluate the model
print("Logistic Regression")
print("Accuracy: ", accuracy_score(y_test, y_pred))
print(classification_report(y_test, y_pred))





# Split into train/test sets
X_train, X_test, y_train, y_test = train_test_split(X, y, test_size=0.3)

# Train a logistic regression model
model = RandomForestClassifier()
model.fit(X_train, y_train)

# Predict on test set
y_pred = model.predict(X_test)

# Evaluate the model
print("RandomForestClassifier")
print("Accuracy: ", accuracy_score(y_test, y_pred))
print(classification_report(y_test, y_pred))





# Split into train/test sets
X_train, X_test, y_train, y_test = train_test_split(X, y, test_size=0.3)

# Train a logistic regression model
model = DecisionTreeClassifier()
model.fit(X_train, y_train)

# Predict on test set
y_pred = model.predict(X_test)

# Evaluate the model
print("DecisionTreeClassifier")
print("Accuracy: ", accuracy_score(y_test, y_pred))
print(classification_report(y_test, y_pred))






