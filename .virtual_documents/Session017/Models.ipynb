








from sklearn.naive_bayes import CategoricalNB, BernoulliNB
from sklearn.linear_model import LogisticRegression
from sklearn.tree import DecisionTreeClassifier
from sklearn.ensemble import RandomForestClassifier
from sklearn.svm import SVC
from sklearn.neighbors import KNeighborsClassifier

class MyModel:
    def __init__(self, model_type):
        self.vectorizer = CountVectorizer()
        if model_type == "CategoricalNB":
            self.model = CategoricalNB()
        elif model_type == "BernoulliNB":
            self.model = BernoulliNB()
        elif model_type == "LogisticRegression":
            self.model = LogisticRegression()
        elif model_type == "DecisionTreeClassifier":
            self.model = DecisionTreeClassifier()
        elif model_type == "RandomForestClassifier":
            self.model = RandomForestClassifier()
        elif model_type == "SVC":
            self.model = SVC()
        elif model_type == "KNeighborsClassifier":
            self.model = KNeighborsClassifier()

    def train(self, training_data):
        names, genders = zip(*training_data)
        X = self.vectorizer.fit_transform(names)
        y = genders
        self.model.fit(X, y)

    def predict(self, name):
        X = self.vectorizer.transform([name])
        return self.model.predict(X)[0]

    def learn(self, name, gender):
        X = self.vectorizer.transform([name])
        self.model.partial_fit(X, [gender], classes=["M", "F", "NEUTRAL"])

#model = MyModel("LogisticRegression") # Instantiation


import pickle

file = open('train_raw_data.pkl', 'rb')
data = pickle.load(file)
file.close()


for item in data:
    print(item)





# # Dumping csv data to pkl

# import pandas as pd
# import pickle

# # Load data from name_gender.csv
# data = pd.read_csv('name_gender.csv')

# # Save data to train_raw_data.pkl
# with open('gender_data.pkl', 'wb') as f:
#     pickle.dump(data, f)



