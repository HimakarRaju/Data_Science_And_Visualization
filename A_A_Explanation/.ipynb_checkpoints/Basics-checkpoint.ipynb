{
 "cells": [
  {
   "cell_type": "code",
   "execution_count": 66,
   "id": "51abaa2a-f863-4d06-9c73-ab64da8a3216",
   "metadata": {},
   "outputs": [],
   "source": [
    "#importing libraries\n",
    "import pandas as pd\n",
    "import matplotlib.pyplot as plt\n",
    "import seaborn as sns\n",
    "import plotty.express as px\n"
   ]
  },
  {
   "cell_type": "code",
   "execution_count": 67,
   "id": "24cabc18-db31-4b30-ba1c-2d6d4e221ac0",
   "metadata": {},
   "outputs": [],
   "source": [
    "# reading the file\n",
    "\n",
    "file = r'C:\\\\Users\\\\HimakarRaju\\\\Desktop\\\\PreSkilling\\\\Python\\\\Data_Science_And_Visualization\\\\A_A_Explanation\\\\SPF.csv'\n",
    "\n",
    "df = pd.read_csv(file)"
   ]
  },
  {
   "cell_type": "code",
   "execution_count": 68,
   "id": "15913a75-5421-4f85-a478-1ca91d6d243e",
   "metadata": {},
   "outputs": [
    {
     "name": "stdout",
     "output_type": "stream",
     "text": [
      "   Hours_Studied  Attendance Parental_Involvement Access_to_Resources  \\\n",
      "0             23          84                  Low                High   \n",
      "1             19          64                  Low              Medium   \n",
      "2             24          98               Medium              Medium   \n",
      "3             29          89                  Low              Medium   \n",
      "4             19          92               Medium              Medium   \n",
      "\n",
      "  Extracurricular_Activities  Sleep_Hours  Previous_Scores Motivation_Level  \\\n",
      "0                         No            7               73              Low   \n",
      "1                         No            8               59              Low   \n",
      "2                        Yes            7               91           Medium   \n",
      "3                        Yes            8               98           Medium   \n",
      "4                        Yes            6               65           Medium   \n",
      "\n",
      "  Internet_Access  Tutoring_Sessions Family_Income Teacher_Quality  \\\n",
      "0             Yes                  0           Low          Medium   \n",
      "1             Yes                  2        Medium          Medium   \n",
      "2             Yes                  2        Medium          Medium   \n",
      "3             Yes                  1        Medium          Medium   \n",
      "4             Yes                  3        Medium            High   \n",
      "\n",
      "  School_Type Peer_Influence  Physical_Activity Learning_Disabilities  \\\n",
      "0      Public       Positive                  3                    No   \n",
      "1      Public       Negative                  4                    No   \n",
      "2      Public        Neutral                  4                    No   \n",
      "3      Public       Negative                  4                    No   \n",
      "4      Public        Neutral                  4                    No   \n",
      "\n",
      "  Parental_Education_Level Distance_from_Home  Gender  Exam_Score  \n",
      "0              High School               Near    Male          67  \n",
      "1                  College           Moderate  Female          61  \n",
      "2             Postgraduate               Near    Male          74  \n",
      "3              High School           Moderate    Male          71  \n",
      "4                  College               Near  Female          70  \n"
     ]
    }
   ],
   "source": [
    "\n",
    "# checking data\n",
    "print(df.head())"
   ]
  },
  {
   "cell_type": "code",
   "execution_count": 69,
   "id": "647d9f9a-034b-46aa-8d52-5122f49a2692",
   "metadata": {},
   "outputs": [
    {
     "name": "stdout",
     "output_type": "stream",
     "text": [
      "Hours_Studied                  0\n",
      "Attendance                     0\n",
      "Parental_Involvement           0\n",
      "Access_to_Resources            0\n",
      "Extracurricular_Activities     0\n",
      "Sleep_Hours                    0\n",
      "Previous_Scores                0\n",
      "Motivation_Level               0\n",
      "Internet_Access                0\n",
      "Tutoring_Sessions              0\n",
      "Family_Income                  0\n",
      "Teacher_Quality               78\n",
      "School_Type                    0\n",
      "Peer_Influence                 0\n",
      "Physical_Activity              0\n",
      "Learning_Disabilities          0\n",
      "Parental_Education_Level      90\n",
      "Distance_from_Home            67\n",
      "Gender                         0\n",
      "Exam_Score                     0\n",
      "dtype: int64\n"
     ]
    }
   ],
   "source": [
    "# checking null values\n",
    "print(df.isnull().sum())"
   ]
  },
  {
   "cell_type": "code",
   "execution_count": 70,
   "id": "377e8b07-8e61-49c1-bd71-aee7ce2d57d5",
   "metadata": {},
   "outputs": [
    {
     "name": "stdout",
     "output_type": "stream",
     "text": [
      "Hours_Studied                 0\n",
      "Attendance                    0\n",
      "Parental_Involvement          0\n",
      "Access_to_Resources           0\n",
      "Extracurricular_Activities    0\n",
      "Sleep_Hours                   0\n",
      "Previous_Scores               0\n",
      "Motivation_Level              0\n",
      "Internet_Access               0\n",
      "Tutoring_Sessions             0\n",
      "Family_Income                 0\n",
      "Teacher_Quality               0\n",
      "School_Type                   0\n",
      "Peer_Influence                0\n",
      "Physical_Activity             0\n",
      "Learning_Disabilities         0\n",
      "Parental_Education_Level      0\n",
      "Distance_from_Home            0\n",
      "Gender                        0\n",
      "Exam_Score                    0\n",
      "dtype: int64\n"
     ]
    }
   ],
   "source": [
    "\n",
    "# deleting rows with null values\n",
    "df.dropna(inplace=True)\n",
    "print(df.isnull().sum())"
   ]
  },
  {
   "cell_type": "code",
   "execution_count": 71,
   "id": "ccdc8a60-e885-4734-ad36-45a235160293",
   "metadata": {},
   "outputs": [],
   "source": [
    "# separating numerical and categorical columns\n",
    "categorical_cols = df.select_dtypes(exclude=[\"number\"]).columns.tolist()\n",
    "numerical_cols = df.select_dtypes(include=[\"number\"]).columns.tolist()"
   ]
  },
  {
   "cell_type": "code",
   "execution_count": 72,
   "id": "055c0106-7a32-437a-876c-0c55174d4f6c",
   "metadata": {},
   "outputs": [
    {
     "name": "stdout",
     "output_type": "stream",
     "text": [
      "['Parental_Involvement', 'Access_to_Resources', 'Extracurricular_Activities', 'Motivation_Level', 'Internet_Access', 'Family_Income', 'Teacher_Quality', 'School_Type', 'Peer_Influence', 'Learning_Disabilities', 'Parental_Education_Level', 'Distance_from_Home', 'Gender']\n"
     ]
    }
   ],
   "source": [
    "print(categorical_cols)\n"
   ]
  },
  {
   "cell_type": "code",
   "execution_count": 73,
   "id": "788fdd80-a371-44ae-b432-f2409656f57d",
   "metadata": {},
   "outputs": [
    {
     "name": "stdout",
     "output_type": "stream",
     "text": [
      "['Hours_Studied', 'Attendance', 'Sleep_Hours', 'Previous_Scores', 'Tutoring_Sessions', 'Physical_Activity', 'Exam_Score']\n"
     ]
    }
   ],
   "source": [
    "print(numerical_cols)"
   ]
  },
  {
   "cell_type": "code",
   "execution_count": 74,
   "id": "3e6681d7-1574-4b94-b38d-e1cf8f72adef",
   "metadata": {},
   "outputs": [
    {
     "name": "stdout",
     "output_type": "stream",
     "text": [
      "                        mean   25%   50%   75%        std\n",
      "Hours_Studied      19.977109  16.0  20.0  24.0   5.985460\n",
      "Attendance         80.020853  70.0  80.0  90.0  11.550723\n",
      "Sleep_Hours         7.034964   6.0   7.0   8.0   1.468033\n",
      "Previous_Scores    75.066165  63.0  75.0  88.0  14.400389\n",
      "Tutoring_Sessions   1.495296   1.0   1.0   2.0   1.233984\n",
      "Physical_Activity   2.972719   2.0   3.0   4.0   1.028926\n",
      "Exam_Score         67.252117  65.0  67.0  69.0   3.914217\n"
     ]
    }
   ],
   "source": [
    "num_cols = df.select_dtypes(include=['float64', 'int64']).columns\n",
    "stats = df[num_cols].describe().T[['mean','25%', '50%', '75%', 'std']]\n",
    "\n",
    "print(stats)"
   ]
  },
  {
   "cell_type": "code",
   "execution_count": 76,
   "id": "e1472333-17d4-4dda-99dd-cb48a59c66de",
   "metadata": {},
   "outputs": [
    {
     "ename": "AttributeError",
     "evalue": "module 'seaborn' has no attribute 'plot'",
     "output_type": "error",
     "traceback": [
      "\u001b[1;31m------------------------------------------------------------\u001b[0m",
      "\u001b[1;31mAttributeError\u001b[0m             Traceback (most recent call last)",
      "Cell \u001b[1;32mIn[76], line 3\u001b[0m\n\u001b[0;32m      1\u001b[0m \u001b[38;5;28;01mfor\u001b[39;00m cat_col \u001b[38;5;129;01min\u001b[39;00m categorical_cols:\n\u001b[0;32m      2\u001b[0m     \u001b[38;5;28;01mfor\u001b[39;00m num_col \u001b[38;5;129;01min\u001b[39;00m numerical_cols:\n\u001b[1;32m----> 3\u001b[0m         fig \u001b[38;5;241m=\u001b[39m sns\u001b[38;5;241m.\u001b[39mplot(df, x\u001b[38;5;241m=\u001b[39mcat_col, y\u001b[38;5;241m=\u001b[39mnum_col, color\u001b[38;5;241m=\u001b[39mcat_col, size\u001b[38;5;241m=\u001b[39mnum_col,hover_data\u001b[38;5;241m=\u001b[39m[cat_col, num_col],title\u001b[38;5;241m=\u001b[39m\u001b[38;5;124mf\u001b[39m\u001b[38;5;124m\"\u001b[39m\u001b[38;5;124mScatter Plot of \u001b[39m\u001b[38;5;132;01m{\u001b[39;00mcat_col\u001b[38;5;132;01m}\u001b[39;00m\u001b[38;5;124m vs \u001b[39m\u001b[38;5;132;01m{\u001b[39;00mnum_col\u001b[38;5;132;01m}\u001b[39;00m\u001b[38;5;124m\"\u001b[39m)\n\u001b[0;32m      5\u001b[0m fig\u001b[38;5;241m.\u001b[39mshow()\n",
      "\u001b[1;31mAttributeError\u001b[0m: module 'seaborn' has no attribute 'plot'"
     ]
    }
   ],
   "source": [
    "for cat_col in categorical_cols:\n",
    "    for num_col in numerical_cols:\n",
    "        fig = sns.plot(df, x=cat_col, y=num_col, color=cat_col, size=num_col,hover_data=[cat_col, num_col],title=f\"Scatter Plot of {cat_col} vs {num_col}\")\n",
    "\n",
    "fig.show()"
   ]
  },
  {
   "cell_type": "code",
   "execution_count": 78,
   "id": "774890cb-74f7-427c-bf64-63744306ef85",
   "metadata": {},
   "outputs": [
    {
     "ename": "TypeError",
     "evalue": "scatter() got multiple values for argument 'x'",
     "output_type": "error",
     "traceback": [
      "\u001b[1;31m------------------------------------------------------------\u001b[0m",
      "\u001b[1;31mTypeError\u001b[0m                  Traceback (most recent call last)",
      "Cell \u001b[1;32mIn[78], line 5\u001b[0m\n\u001b[0;32m      3\u001b[0m \u001b[38;5;28;01mfor\u001b[39;00m cat_col \u001b[38;5;129;01min\u001b[39;00m categorical_cols:\n\u001b[0;32m      4\u001b[0m     \u001b[38;5;28;01mfor\u001b[39;00m num_col \u001b[38;5;129;01min\u001b[39;00m numerical_cols:\n\u001b[1;32m----> 5\u001b[0m         fig \u001b[38;5;241m=\u001b[39m plt\u001b[38;5;241m.\u001b[39mscatter(df, x\u001b[38;5;241m=\u001b[39mcat_col, y\u001b[38;5;241m=\u001b[39mnum_col, color\u001b[38;5;241m=\u001b[39mcat_col, size\u001b[38;5;241m=\u001b[39mnum_col,hover_data\u001b[38;5;241m=\u001b[39m[cat_col, num_col],title\u001b[38;5;241m=\u001b[39m\u001b[38;5;124mf\u001b[39m\u001b[38;5;124m\"\u001b[39m\u001b[38;5;124mScatter Plot of \u001b[39m\u001b[38;5;132;01m{\u001b[39;00mcat_col\u001b[38;5;132;01m}\u001b[39;00m\u001b[38;5;124m vs \u001b[39m\u001b[38;5;132;01m{\u001b[39;00mnum_col\u001b[38;5;132;01m}\u001b[39;00m\u001b[38;5;124m\"\u001b[39m)\n\u001b[0;32m      7\u001b[0m plt\u001b[38;5;241m.\u001b[39mshow()\n",
      "\u001b[1;31mTypeError\u001b[0m: scatter() got multiple values for argument 'x'"
     ]
    },
    {
     "data": {
      "image/png": "[encoded data removed]",
      "text/plain": [
       "<Figure size 640x480 with 1 Axes>"
      ]
     },
     "metadata": {},
     "output_type": "display_data"
    }
   ],
   "source": [
    "fig, ax = plt.subplots()\n",
    "\n",
    "for cat_col in categorical_cols:\n",
    "    for num_col in numerical_cols:\n",
    "        fig = px.scatter(df, x=cat_col, y=num_col, color=cat_col, size=num_col,hover_data=[cat_col, num_col],title=f\"Scatter Plot of {cat_col} vs {num_col}\")\n",
    "\n",
    "fig.show()"
   ]
  },
  {
   "cell_type": "code",
   "execution_count": null,
   "id": "78da029b-0914-4f23-86b7-89ec2eb47a17",
   "metadata": {},
   "outputs": [],
   "source": []
  }
 ],
 "metadata": {
  "kernelspec": {
   "display_name": "Python 3 (ipykernel)",
   "language": "python",
   "name": "python3"
  },
  "language_info": {
   "codemirror_mode": {
    "name": "ipython",
    "version": 3
   },
   "file_extension": ".py",
   "mimetype": "text/x-python",
   "name": "python",
   "nbconvert_exporter": "python",
   "pygments_lexer": "ipython3",
   "version": "3.12.4"
  }
 },
 "nbformat": 4,
 "nbformat_minor": 5
}
